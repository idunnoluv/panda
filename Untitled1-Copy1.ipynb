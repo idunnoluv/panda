{
 "cells": [
  {
   "cell_type": "markdown",
   "id": "51016df6-f2db-4118-8db7-bcbe1f81c19d",
   "metadata": {},
   "source": [
    "THEME : EXPLORATION DES DONNEES EMPLOYEES"
   ]
  },
  {
   "cell_type": "markdown",
   "id": "3427a527-26d4-4d85-8d96-0e62eca3a19f",
   "metadata": {},
   "source": [
    "**Introduction**\n",
    "\n",
    "Cette etudes vise a etudie et repondre a certaines question qui revienne le plus souvent dans le cadre des etudes de donnees au sein d'une entreprise. Le jeu de donnees faisant l'objet de mon etudes est totalement independant d'une quelconque entreprise de la place (provenant de KAGGLE) mai se voit etre a meme de fournir le necessaire en donnee de ressource humaine entrepreneurial."
   ]
  },
  {
   "cell_type": "code",
   "execution_count": 1,
   "id": "e7e46e1b-2969-472c-a6c3-0d25163bd8f0",
   "metadata": {},
   "outputs": [],
   "source": [
    "import numpy as np\n",
    "import pandas as pd\n",
    "import matplotlib.pyplot as plt\n",
    "import seaborn as sns  \n",
    "import statsmodels.api as sm\n",
    "from plotnine import ggplot, aes, geom_density\n",
    "from statistics import mean"
   ]
  },
  {
   "cell_type": "markdown",
   "id": "a6154f35-2286-429a-8ca9-606d0b7181b4",
   "metadata": {},
   "source": [
    "1. Import du Jeu de donnee, vue generale et pretraitement"
   ]
  },
  {
   "cell_type": "markdown",
   "id": "90e2145e-1087-4aac-beb0-71e3f055e683",
   "metadata": {},
   "source": [
    "L'on importe le Jeu de donnee situe a **'C:/Users/Smiley/Pictures/'** sous le nom de **RH (Acronyme pour Ressource Humaine)**\n",
    "On precise ('index_col=['Employee_Name']') pour avoir des resultats propre a chaque employee de l'entreprise."
   ]
  },
  {
   "cell_type": "code",
   "execution_count": 2,
   "id": "7cba0730-2abf-4cb3-b3b2-713e073e8e89",
   "metadata": {},
   "outputs": [],
   "source": [
    "RH = pd.read_csv(\"C:/Users/Smiley/Pictures/HRDataset_v14.csv\", index_col=['Employee_Name'])"
   ]
  },
  {
   "cell_type": "markdown",
   "id": "8da22542-63e9-4943-a75f-9b0549788859",
   "metadata": {},
   "source": [
    "Pour un point de vu general (bien que anodin), il est quand meme interessant d'avoir un aperçu du Jeu de donnee auquel nous sommes appele a l'etudie.\n",
    "Grace a **RH.info()** nous obtenons certaines informations comme entries, columns, le nom des differentes columns et le Dtype. \n",
    "Nous pouvons donc dire avec certitude que notre Jeu de donnee comporte **311 individus** (entries), **35 Variables** (columns) et dire leur **type (entier, decimal, charcatere)**."
   ]
  },
  {
   "cell_type": "code",
   "execution_count": 3,
   "id": "de216f7a-a4a4-461a-a0d9-3746fa2d9691",
   "metadata": {},
   "outputs": [
    {
     "name": "stdout",
     "output_type": "stream",
     "text": [
      "<class 'pandas.core.frame.DataFrame'>\n",
      "Index: 311 entries, Adinolfi, Wilson  K to Zima, Colleen\n",
      "Data columns (total 35 columns):\n",
      " #   Column                      Non-Null Count  Dtype  \n",
      "---  ------                      --------------  -----  \n",
      " 0   EmpID                       311 non-null    int64  \n",
      " 1   MarriedID                   311 non-null    int64  \n",
      " 2   MaritalStatusID             311 non-null    int64  \n",
      " 3   GenderID                    311 non-null    int64  \n",
      " 4   EmpStatusID                 311 non-null    int64  \n",
      " 5   DeptID                      311 non-null    int64  \n",
      " 6   PerfScoreID                 311 non-null    int64  \n",
      " 7   FromDiversityJobFairID      311 non-null    int64  \n",
      " 8   Salary                      311 non-null    int64  \n",
      " 9   Termd                       311 non-null    int64  \n",
      " 10  PositionID                  311 non-null    int64  \n",
      " 11  Position                    311 non-null    object \n",
      " 12  State                       311 non-null    object \n",
      " 13  Zip                         311 non-null    int64  \n",
      " 14  DOB                         311 non-null    object \n",
      " 15  Sex                         311 non-null    object \n",
      " 16  MaritalDesc                 311 non-null    object \n",
      " 17  CitizenDesc                 311 non-null    object \n",
      " 18  HispanicLatino              311 non-null    object \n",
      " 19  RaceDesc                    311 non-null    object \n",
      " 20  DateofHire                  311 non-null    object \n",
      " 21  DateofTermination           104 non-null    object \n",
      " 22  TermReason                  311 non-null    object \n",
      " 23  EmploymentStatus            311 non-null    object \n",
      " 24  Department                  311 non-null    object \n",
      " 25  ManagerName                 311 non-null    object \n",
      " 26  ManagerID                   303 non-null    float64\n",
      " 27  RecruitmentSource           311 non-null    object \n",
      " 28  PerformanceScore            311 non-null    object \n",
      " 29  EngagementSurvey            311 non-null    float64\n",
      " 30  EmpSatisfaction             311 non-null    int64  \n",
      " 31  SpecialProjectsCount        311 non-null    int64  \n",
      " 32  LastPerformanceReview_Date  311 non-null    object \n",
      " 33  DaysLateLast30              311 non-null    int64  \n",
      " 34  Absences                    311 non-null    int64  \n",
      "dtypes: float64(2), int64(16), object(17)\n",
      "memory usage: 87.5+ KB\n"
     ]
    }
   ],
   "source": [
    "RH.info()"
   ]
  },
  {
   "cell_type": "code",
   "execution_count": 4,
   "id": "a3143a0c-613c-4256-bfa1-7887be10f5a6",
   "metadata": {
    "scrolled": true
   },
   "outputs": [
    {
     "data": {
      "text/html": [
       "<div>\n",
       "<style scoped>\n",
       "    .dataframe tbody tr th:only-of-type {\n",
       "        vertical-align: middle;\n",
       "    }\n",
       "\n",
       "    .dataframe tbody tr th {\n",
       "        vertical-align: top;\n",
       "    }\n",
       "\n",
       "    .dataframe thead th {\n",
       "        text-align: right;\n",
       "    }\n",
       "</style>\n",
       "<table border=\"1\" class=\"dataframe\">\n",
       "  <thead>\n",
       "    <tr style=\"text-align: right;\">\n",
       "      <th></th>\n",
       "      <th>EmpID</th>\n",
       "      <th>MarriedID</th>\n",
       "      <th>MaritalStatusID</th>\n",
       "      <th>GenderID</th>\n",
       "      <th>EmpStatusID</th>\n",
       "      <th>DeptID</th>\n",
       "      <th>PerfScoreID</th>\n",
       "      <th>FromDiversityJobFairID</th>\n",
       "      <th>Salary</th>\n",
       "      <th>Termd</th>\n",
       "      <th>...</th>\n",
       "      <th>ManagerName</th>\n",
       "      <th>ManagerID</th>\n",
       "      <th>RecruitmentSource</th>\n",
       "      <th>PerformanceScore</th>\n",
       "      <th>EngagementSurvey</th>\n",
       "      <th>EmpSatisfaction</th>\n",
       "      <th>SpecialProjectsCount</th>\n",
       "      <th>LastPerformanceReview_Date</th>\n",
       "      <th>DaysLateLast30</th>\n",
       "      <th>Absences</th>\n",
       "    </tr>\n",
       "    <tr>\n",
       "      <th>Employee_Name</th>\n",
       "      <th></th>\n",
       "      <th></th>\n",
       "      <th></th>\n",
       "      <th></th>\n",
       "      <th></th>\n",
       "      <th></th>\n",
       "      <th></th>\n",
       "      <th></th>\n",
       "      <th></th>\n",
       "      <th></th>\n",
       "      <th></th>\n",
       "      <th></th>\n",
       "      <th></th>\n",
       "      <th></th>\n",
       "      <th></th>\n",
       "      <th></th>\n",
       "      <th></th>\n",
       "      <th></th>\n",
       "      <th></th>\n",
       "      <th></th>\n",
       "      <th></th>\n",
       "    </tr>\n",
       "  </thead>\n",
       "  <tbody>\n",
       "    <tr>\n",
       "      <th>Adinolfi, Wilson  K</th>\n",
       "      <td>10026</td>\n",
       "      <td>0</td>\n",
       "      <td>0</td>\n",
       "      <td>1</td>\n",
       "      <td>1</td>\n",
       "      <td>5</td>\n",
       "      <td>4</td>\n",
       "      <td>0</td>\n",
       "      <td>62506</td>\n",
       "      <td>0</td>\n",
       "      <td>...</td>\n",
       "      <td>Michael Albert</td>\n",
       "      <td>22.0</td>\n",
       "      <td>LinkedIn</td>\n",
       "      <td>Exceeds</td>\n",
       "      <td>4.60</td>\n",
       "      <td>5</td>\n",
       "      <td>0</td>\n",
       "      <td>1/17/2019</td>\n",
       "      <td>0</td>\n",
       "      <td>1</td>\n",
       "    </tr>\n",
       "    <tr>\n",
       "      <th>Ait Sidi, Karthikeyan</th>\n",
       "      <td>10084</td>\n",
       "      <td>1</td>\n",
       "      <td>1</td>\n",
       "      <td>1</td>\n",
       "      <td>5</td>\n",
       "      <td>3</td>\n",
       "      <td>3</td>\n",
       "      <td>0</td>\n",
       "      <td>104437</td>\n",
       "      <td>1</td>\n",
       "      <td>...</td>\n",
       "      <td>Simon Roup</td>\n",
       "      <td>4.0</td>\n",
       "      <td>Indeed</td>\n",
       "      <td>Fully Meets</td>\n",
       "      <td>4.96</td>\n",
       "      <td>3</td>\n",
       "      <td>6</td>\n",
       "      <td>2/24/2016</td>\n",
       "      <td>0</td>\n",
       "      <td>17</td>\n",
       "    </tr>\n",
       "    <tr>\n",
       "      <th>Akinkuolie, Sarah</th>\n",
       "      <td>10196</td>\n",
       "      <td>1</td>\n",
       "      <td>1</td>\n",
       "      <td>0</td>\n",
       "      <td>5</td>\n",
       "      <td>5</td>\n",
       "      <td>3</td>\n",
       "      <td>0</td>\n",
       "      <td>64955</td>\n",
       "      <td>1</td>\n",
       "      <td>...</td>\n",
       "      <td>Kissy Sullivan</td>\n",
       "      <td>20.0</td>\n",
       "      <td>LinkedIn</td>\n",
       "      <td>Fully Meets</td>\n",
       "      <td>3.02</td>\n",
       "      <td>3</td>\n",
       "      <td>0</td>\n",
       "      <td>5/15/2012</td>\n",
       "      <td>0</td>\n",
       "      <td>3</td>\n",
       "    </tr>\n",
       "    <tr>\n",
       "      <th>Alagbe,Trina</th>\n",
       "      <td>10088</td>\n",
       "      <td>1</td>\n",
       "      <td>1</td>\n",
       "      <td>0</td>\n",
       "      <td>1</td>\n",
       "      <td>5</td>\n",
       "      <td>3</td>\n",
       "      <td>0</td>\n",
       "      <td>64991</td>\n",
       "      <td>0</td>\n",
       "      <td>...</td>\n",
       "      <td>Elijiah Gray</td>\n",
       "      <td>16.0</td>\n",
       "      <td>Indeed</td>\n",
       "      <td>Fully Meets</td>\n",
       "      <td>4.84</td>\n",
       "      <td>5</td>\n",
       "      <td>0</td>\n",
       "      <td>1/3/2019</td>\n",
       "      <td>0</td>\n",
       "      <td>15</td>\n",
       "    </tr>\n",
       "    <tr>\n",
       "      <th>Anderson, Carol</th>\n",
       "      <td>10069</td>\n",
       "      <td>0</td>\n",
       "      <td>2</td>\n",
       "      <td>0</td>\n",
       "      <td>5</td>\n",
       "      <td>5</td>\n",
       "      <td>3</td>\n",
       "      <td>0</td>\n",
       "      <td>50825</td>\n",
       "      <td>1</td>\n",
       "      <td>...</td>\n",
       "      <td>Webster Butler</td>\n",
       "      <td>39.0</td>\n",
       "      <td>Google Search</td>\n",
       "      <td>Fully Meets</td>\n",
       "      <td>5.00</td>\n",
       "      <td>4</td>\n",
       "      <td>0</td>\n",
       "      <td>2/1/2016</td>\n",
       "      <td>0</td>\n",
       "      <td>2</td>\n",
       "    </tr>\n",
       "  </tbody>\n",
       "</table>\n",
       "<p>5 rows × 35 columns</p>\n",
       "</div>"
      ],
      "text/plain": [
       "                          EmpID  MarriedID  MaritalStatusID  GenderID  \\\n",
       "Employee_Name                                                           \n",
       "Adinolfi, Wilson  K       10026          0                0         1   \n",
       "Ait Sidi, Karthikeyan     10084          1                1         1   \n",
       "Akinkuolie, Sarah         10196          1                1         0   \n",
       "Alagbe,Trina              10088          1                1         0   \n",
       "Anderson, Carol           10069          0                2         0   \n",
       "\n",
       "                          EmpStatusID  DeptID  PerfScoreID  \\\n",
       "Employee_Name                                                \n",
       "Adinolfi, Wilson  K                 1       5            4   \n",
       "Ait Sidi, Karthikeyan               5       3            3   \n",
       "Akinkuolie, Sarah                   5       5            3   \n",
       "Alagbe,Trina                        1       5            3   \n",
       "Anderson, Carol                     5       5            3   \n",
       "\n",
       "                          FromDiversityJobFairID  Salary  Termd  ...  \\\n",
       "Employee_Name                                                    ...   \n",
       "Adinolfi, Wilson  K                            0   62506      0  ...   \n",
       "Ait Sidi, Karthikeyan                          0  104437      1  ...   \n",
       "Akinkuolie, Sarah                              0   64955      1  ...   \n",
       "Alagbe,Trina                                   0   64991      0  ...   \n",
       "Anderson, Carol                                0   50825      1  ...   \n",
       "\n",
       "                             ManagerName ManagerID RecruitmentSource  \\\n",
       "Employee_Name                                                          \n",
       "Adinolfi, Wilson  K       Michael Albert      22.0          LinkedIn   \n",
       "Ait Sidi, Karthikeyan         Simon Roup       4.0            Indeed   \n",
       "Akinkuolie, Sarah         Kissy Sullivan      20.0          LinkedIn   \n",
       "Alagbe,Trina                Elijiah Gray      16.0            Indeed   \n",
       "Anderson, Carol           Webster Butler      39.0     Google Search   \n",
       "\n",
       "                          PerformanceScore EngagementSurvey EmpSatisfaction  \\\n",
       "Employee_Name                                                                 \n",
       "Adinolfi, Wilson  K                Exceeds             4.60               5   \n",
       "Ait Sidi, Karthikeyan          Fully Meets             4.96               3   \n",
       "Akinkuolie, Sarah              Fully Meets             3.02               3   \n",
       "Alagbe,Trina                   Fully Meets             4.84               5   \n",
       "Anderson, Carol                Fully Meets             5.00               4   \n",
       "\n",
       "                         SpecialProjectsCount LastPerformanceReview_Date  \\\n",
       "Employee_Name                                                              \n",
       "Adinolfi, Wilson  K                         0                  1/17/2019   \n",
       "Ait Sidi, Karthikeyan                       6                  2/24/2016   \n",
       "Akinkuolie, Sarah                           0                  5/15/2012   \n",
       "Alagbe,Trina                                0                   1/3/2019   \n",
       "Anderson, Carol                             0                   2/1/2016   \n",
       "\n",
       "                         DaysLateLast30 Absences  \n",
       "Employee_Name                                     \n",
       "Adinolfi, Wilson  K                   0        1  \n",
       "Ait Sidi, Karthikeyan                 0       17  \n",
       "Akinkuolie, Sarah                     0        3  \n",
       "Alagbe,Trina                          0       15  \n",
       "Anderson, Carol                       0        2  \n",
       "\n",
       "[5 rows x 35 columns]"
      ]
     },
     "execution_count": 4,
     "metadata": {},
     "output_type": "execute_result"
    }
   ],
   "source": [
    "RH.head(5)"
   ]
  },
  {
   "cell_type": "code",
   "execution_count": 5,
   "id": "5456e568-8259-409b-a7d2-75c6cfe77da7",
   "metadata": {
    "scrolled": true
   },
   "outputs": [
    {
     "data": {
      "text/plain": [
       "EmpID                           0\n",
       "MarriedID                       0\n",
       "MaritalStatusID                 0\n",
       "GenderID                        0\n",
       "EmpStatusID                     0\n",
       "DeptID                          0\n",
       "PerfScoreID                     0\n",
       "FromDiversityJobFairID          0\n",
       "Salary                          0\n",
       "Termd                           0\n",
       "PositionID                      0\n",
       "Position                        0\n",
       "State                           0\n",
       "Zip                             0\n",
       "DOB                             0\n",
       "Sex                             0\n",
       "MaritalDesc                     0\n",
       "CitizenDesc                     0\n",
       "HispanicLatino                  0\n",
       "RaceDesc                        0\n",
       "DateofHire                      0\n",
       "DateofTermination             207\n",
       "TermReason                      0\n",
       "EmploymentStatus                0\n",
       "Department                      0\n",
       "ManagerName                     0\n",
       "ManagerID                       8\n",
       "RecruitmentSource               0\n",
       "PerformanceScore                0\n",
       "EngagementSurvey                0\n",
       "EmpSatisfaction                 0\n",
       "SpecialProjectsCount            0\n",
       "LastPerformanceReview_Date      0\n",
       "DaysLateLast30                  0\n",
       "Absences                        0\n",
       "dtype: int64"
      ]
     },
     "execution_count": 5,
     "metadata": {},
     "output_type": "execute_result"
    }
   ],
   "source": [
    "RH.isnull().sum()"
   ]
  },
  {
   "cell_type": "code",
   "execution_count": 6,
   "id": "d3382c1b-d910-4ec2-b838-9eeef0e15d3c",
   "metadata": {
    "scrolled": true
   },
   "outputs": [
    {
     "name": "stderr",
     "output_type": "stream",
     "text": [
      "C:\\Users\\Smiley\\AppData\\Local\\Temp\\ipykernel_8468\\3218388452.py:1: FutureWarning: Setting an item of incompatible dtype is deprecated and will raise in a future error of pandas. Value '0' has dtype incompatible with float64, please explicitly cast to a compatible dtype first.\n"
     ]
    },
    {
     "data": {
      "text/plain": [
       "EmpID                         0\n",
       "MarriedID                     0\n",
       "MaritalStatusID               0\n",
       "GenderID                      0\n",
       "EmpStatusID                   0\n",
       "DeptID                        0\n",
       "PerfScoreID                   0\n",
       "FromDiversityJobFairID        0\n",
       "Salary                        0\n",
       "Termd                         0\n",
       "PositionID                    0\n",
       "Position                      0\n",
       "State                         0\n",
       "Zip                           0\n",
       "DOB                           0\n",
       "Sex                           0\n",
       "MaritalDesc                   0\n",
       "CitizenDesc                   0\n",
       "HispanicLatino                0\n",
       "RaceDesc                      0\n",
       "DateofHire                    0\n",
       "DateofTermination             0\n",
       "TermReason                    0\n",
       "EmploymentStatus              0\n",
       "Department                    0\n",
       "ManagerName                   0\n",
       "ManagerID                     0\n",
       "RecruitmentSource             0\n",
       "PerformanceScore              0\n",
       "EngagementSurvey              0\n",
       "EmpSatisfaction               0\n",
       "SpecialProjectsCount          0\n",
       "LastPerformanceReview_Date    0\n",
       "DaysLateLast30                0\n",
       "Absences                      0\n",
       "dtype: int64"
      ]
     },
     "execution_count": 6,
     "metadata": {},
     "output_type": "execute_result"
    }
   ],
   "source": [
    "RH.fillna(\"0\",inplace=True)\n",
    "RH.isnull().sum()"
   ]
  },
  {
   "cell_type": "markdown",
   "id": "7168aece-dbf8-4e34-827d-4a876bb934c1",
   "metadata": {},
   "source": [
    "On effectue un tri par valeur croissante sur la variable ['EmpID'] sur le Jeu de donnee "
   ]
  },
  {
   "cell_type": "code",
   "execution_count": 7,
   "id": "0428db4b-dc29-482f-a39c-d7f8df781400",
   "metadata": {
    "scrolled": true
   },
   "outputs": [
    {
     "data": {
      "text/html": [
       "<div>\n",
       "<style scoped>\n",
       "    .dataframe tbody tr th:only-of-type {\n",
       "        vertical-align: middle;\n",
       "    }\n",
       "\n",
       "    .dataframe tbody tr th {\n",
       "        vertical-align: top;\n",
       "    }\n",
       "\n",
       "    .dataframe thead th {\n",
       "        text-align: right;\n",
       "    }\n",
       "</style>\n",
       "<table border=\"1\" class=\"dataframe\">\n",
       "  <thead>\n",
       "    <tr style=\"text-align: right;\">\n",
       "      <th></th>\n",
       "      <th>EmpID</th>\n",
       "      <th>MarriedID</th>\n",
       "      <th>MaritalStatusID</th>\n",
       "      <th>GenderID</th>\n",
       "      <th>EmpStatusID</th>\n",
       "      <th>DeptID</th>\n",
       "      <th>PerfScoreID</th>\n",
       "      <th>FromDiversityJobFairID</th>\n",
       "      <th>Salary</th>\n",
       "      <th>Termd</th>\n",
       "      <th>...</th>\n",
       "      <th>ManagerName</th>\n",
       "      <th>ManagerID</th>\n",
       "      <th>RecruitmentSource</th>\n",
       "      <th>PerformanceScore</th>\n",
       "      <th>EngagementSurvey</th>\n",
       "      <th>EmpSatisfaction</th>\n",
       "      <th>SpecialProjectsCount</th>\n",
       "      <th>LastPerformanceReview_Date</th>\n",
       "      <th>DaysLateLast30</th>\n",
       "      <th>Absences</th>\n",
       "    </tr>\n",
       "    <tr>\n",
       "      <th>Employee_Name</th>\n",
       "      <th></th>\n",
       "      <th></th>\n",
       "      <th></th>\n",
       "      <th></th>\n",
       "      <th></th>\n",
       "      <th></th>\n",
       "      <th></th>\n",
       "      <th></th>\n",
       "      <th></th>\n",
       "      <th></th>\n",
       "      <th></th>\n",
       "      <th></th>\n",
       "      <th></th>\n",
       "      <th></th>\n",
       "      <th></th>\n",
       "      <th></th>\n",
       "      <th></th>\n",
       "      <th></th>\n",
       "      <th></th>\n",
       "      <th></th>\n",
       "      <th></th>\n",
       "    </tr>\n",
       "  </thead>\n",
       "  <tbody>\n",
       "    <tr>\n",
       "      <th>Candie, Calvin</th>\n",
       "      <td>10001</td>\n",
       "      <td>0</td>\n",
       "      <td>0</td>\n",
       "      <td>1</td>\n",
       "      <td>1</td>\n",
       "      <td>5</td>\n",
       "      <td>4</td>\n",
       "      <td>0</td>\n",
       "      <td>72640</td>\n",
       "      <td>0</td>\n",
       "      <td>...</td>\n",
       "      <td>Janet King</td>\n",
       "      <td>2.0</td>\n",
       "      <td>Indeed</td>\n",
       "      <td>Exceeds</td>\n",
       "      <td>5.00</td>\n",
       "      <td>3</td>\n",
       "      <td>0</td>\n",
       "      <td>2/22/2019</td>\n",
       "      <td>0</td>\n",
       "      <td>14</td>\n",
       "    </tr>\n",
       "    <tr>\n",
       "      <th>Anderson, Linda</th>\n",
       "      <td>10002</td>\n",
       "      <td>0</td>\n",
       "      <td>0</td>\n",
       "      <td>0</td>\n",
       "      <td>1</td>\n",
       "      <td>5</td>\n",
       "      <td>4</td>\n",
       "      <td>0</td>\n",
       "      <td>57568</td>\n",
       "      <td>0</td>\n",
       "      <td>...</td>\n",
       "      <td>Amy Dunn</td>\n",
       "      <td>11.0</td>\n",
       "      <td>LinkedIn</td>\n",
       "      <td>Exceeds</td>\n",
       "      <td>5.00</td>\n",
       "      <td>5</td>\n",
       "      <td>0</td>\n",
       "      <td>1/7/2019</td>\n",
       "      <td>0</td>\n",
       "      <td>15</td>\n",
       "    </tr>\n",
       "    <tr>\n",
       "      <th>Billis, Helen</th>\n",
       "      <td>10003</td>\n",
       "      <td>1</td>\n",
       "      <td>1</td>\n",
       "      <td>0</td>\n",
       "      <td>1</td>\n",
       "      <td>5</td>\n",
       "      <td>4</td>\n",
       "      <td>0</td>\n",
       "      <td>62910</td>\n",
       "      <td>0</td>\n",
       "      <td>...</td>\n",
       "      <td>Brannon Miller</td>\n",
       "      <td>12.0</td>\n",
       "      <td>Indeed</td>\n",
       "      <td>Exceeds</td>\n",
       "      <td>5.00</td>\n",
       "      <td>3</td>\n",
       "      <td>0</td>\n",
       "      <td>2/27/2019</td>\n",
       "      <td>0</td>\n",
       "      <td>19</td>\n",
       "    </tr>\n",
       "    <tr>\n",
       "      <th>Lynch, Lindsay</th>\n",
       "      <td>10004</td>\n",
       "      <td>0</td>\n",
       "      <td>0</td>\n",
       "      <td>0</td>\n",
       "      <td>5</td>\n",
       "      <td>5</td>\n",
       "      <td>4</td>\n",
       "      <td>1</td>\n",
       "      <td>47434</td>\n",
       "      <td>1</td>\n",
       "      <td>...</td>\n",
       "      <td>Webster Butler</td>\n",
       "      <td>39.0</td>\n",
       "      <td>Diversity Job Fair</td>\n",
       "      <td>Exceeds</td>\n",
       "      <td>5.00</td>\n",
       "      <td>4</td>\n",
       "      <td>0</td>\n",
       "      <td>2/2/2015</td>\n",
       "      <td>0</td>\n",
       "      <td>17</td>\n",
       "    </tr>\n",
       "    <tr>\n",
       "      <th>Patronick, Lucas</th>\n",
       "      <td>10005</td>\n",
       "      <td>0</td>\n",
       "      <td>0</td>\n",
       "      <td>1</td>\n",
       "      <td>5</td>\n",
       "      <td>4</td>\n",
       "      <td>4</td>\n",
       "      <td>1</td>\n",
       "      <td>108987</td>\n",
       "      <td>1</td>\n",
       "      <td>...</td>\n",
       "      <td>Alex Sweetwater</td>\n",
       "      <td>10.0</td>\n",
       "      <td>Diversity Job Fair</td>\n",
       "      <td>Exceeds</td>\n",
       "      <td>5.00</td>\n",
       "      <td>5</td>\n",
       "      <td>3</td>\n",
       "      <td>8/16/2015</td>\n",
       "      <td>0</td>\n",
       "      <td>13</td>\n",
       "    </tr>\n",
       "    <tr>\n",
       "      <th>...</th>\n",
       "      <td>...</td>\n",
       "      <td>...</td>\n",
       "      <td>...</td>\n",
       "      <td>...</td>\n",
       "      <td>...</td>\n",
       "      <td>...</td>\n",
       "      <td>...</td>\n",
       "      <td>...</td>\n",
       "      <td>...</td>\n",
       "      <td>...</td>\n",
       "      <td>...</td>\n",
       "      <td>...</td>\n",
       "      <td>...</td>\n",
       "      <td>...</td>\n",
       "      <td>...</td>\n",
       "      <td>...</td>\n",
       "      <td>...</td>\n",
       "      <td>...</td>\n",
       "      <td>...</td>\n",
       "      <td>...</td>\n",
       "      <td>...</td>\n",
       "    </tr>\n",
       "    <tr>\n",
       "      <th>Stansfield, Norman</th>\n",
       "      <td>10307</td>\n",
       "      <td>1</td>\n",
       "      <td>1</td>\n",
       "      <td>1</td>\n",
       "      <td>1</td>\n",
       "      <td>6</td>\n",
       "      <td>1</td>\n",
       "      <td>0</td>\n",
       "      <td>58273</td>\n",
       "      <td>0</td>\n",
       "      <td>...</td>\n",
       "      <td>Lynn Daneault</td>\n",
       "      <td>21.0</td>\n",
       "      <td>Website</td>\n",
       "      <td>PIP</td>\n",
       "      <td>1.81</td>\n",
       "      <td>2</td>\n",
       "      <td>0</td>\n",
       "      <td>1/17/2019</td>\n",
       "      <td>3</td>\n",
       "      <td>5</td>\n",
       "    </tr>\n",
       "    <tr>\n",
       "      <th>Fernandes, Nilson</th>\n",
       "      <td>10308</td>\n",
       "      <td>1</td>\n",
       "      <td>1</td>\n",
       "      <td>1</td>\n",
       "      <td>1</td>\n",
       "      <td>5</td>\n",
       "      <td>1</td>\n",
       "      <td>0</td>\n",
       "      <td>64057</td>\n",
       "      <td>0</td>\n",
       "      <td>...</td>\n",
       "      <td>Amy Dunn</td>\n",
       "      <td>11.0</td>\n",
       "      <td>Indeed</td>\n",
       "      <td>PIP</td>\n",
       "      <td>1.56</td>\n",
       "      <td>5</td>\n",
       "      <td>0</td>\n",
       "      <td>1/3/2019</td>\n",
       "      <td>6</td>\n",
       "      <td>15</td>\n",
       "    </tr>\n",
       "    <tr>\n",
       "      <th>Fett, Boba</th>\n",
       "      <td>10309</td>\n",
       "      <td>0</td>\n",
       "      <td>0</td>\n",
       "      <td>1</td>\n",
       "      <td>1</td>\n",
       "      <td>3</td>\n",
       "      <td>1</td>\n",
       "      <td>0</td>\n",
       "      <td>53366</td>\n",
       "      <td>0</td>\n",
       "      <td>...</td>\n",
       "      <td>Peter Monroe</td>\n",
       "      <td>7.0</td>\n",
       "      <td>LinkedIn</td>\n",
       "      <td>PIP</td>\n",
       "      <td>1.20</td>\n",
       "      <td>3</td>\n",
       "      <td>6</td>\n",
       "      <td>2/4/2019</td>\n",
       "      <td>3</td>\n",
       "      <td>2</td>\n",
       "    </tr>\n",
       "    <tr>\n",
       "      <th>Desimone, Carl</th>\n",
       "      <td>10310</td>\n",
       "      <td>1</td>\n",
       "      <td>1</td>\n",
       "      <td>1</td>\n",
       "      <td>1</td>\n",
       "      <td>5</td>\n",
       "      <td>1</td>\n",
       "      <td>0</td>\n",
       "      <td>53189</td>\n",
       "      <td>0</td>\n",
       "      <td>...</td>\n",
       "      <td>Amy Dunn</td>\n",
       "      <td>11.0</td>\n",
       "      <td>Indeed</td>\n",
       "      <td>PIP</td>\n",
       "      <td>1.12</td>\n",
       "      <td>2</td>\n",
       "      <td>0</td>\n",
       "      <td>1/31/2019</td>\n",
       "      <td>4</td>\n",
       "      <td>9</td>\n",
       "    </tr>\n",
       "    <tr>\n",
       "      <th>Dee, Randy</th>\n",
       "      <td>10311</td>\n",
       "      <td>1</td>\n",
       "      <td>1</td>\n",
       "      <td>1</td>\n",
       "      <td>1</td>\n",
       "      <td>6</td>\n",
       "      <td>1</td>\n",
       "      <td>0</td>\n",
       "      <td>56991</td>\n",
       "      <td>0</td>\n",
       "      <td>...</td>\n",
       "      <td>Brannon Miller</td>\n",
       "      <td>12.0</td>\n",
       "      <td>Indeed</td>\n",
       "      <td>Fully Meets</td>\n",
       "      <td>4.30</td>\n",
       "      <td>4</td>\n",
       "      <td>3</td>\n",
       "      <td>1/31/2019</td>\n",
       "      <td>2</td>\n",
       "      <td>2</td>\n",
       "    </tr>\n",
       "  </tbody>\n",
       "</table>\n",
       "<p>311 rows × 35 columns</p>\n",
       "</div>"
      ],
      "text/plain": [
       "                     EmpID  MarriedID  MaritalStatusID  GenderID  EmpStatusID  \\\n",
       "Employee_Name                                                                   \n",
       "Candie, Calvin       10001          0                0         1            1   \n",
       "Anderson, Linda      10002          0                0         0            1   \n",
       "Billis, Helen        10003          1                1         0            1   \n",
       "Lynch, Lindsay       10004          0                0         0            5   \n",
       "Patronick, Lucas     10005          0                0         1            5   \n",
       "...                    ...        ...              ...       ...          ...   \n",
       "Stansfield, Norman   10307          1                1         1            1   \n",
       "Fernandes, Nilson    10308          1                1         1            1   \n",
       "Fett, Boba           10309          0                0         1            1   \n",
       "Desimone, Carl       10310          1                1         1            1   \n",
       "Dee, Randy           10311          1                1         1            1   \n",
       "\n",
       "                     DeptID  PerfScoreID  FromDiversityJobFairID  Salary  \\\n",
       "Employee_Name                                                              \n",
       "Candie, Calvin            5            4                       0   72640   \n",
       "Anderson, Linda           5            4                       0   57568   \n",
       "Billis, Helen             5            4                       0   62910   \n",
       "Lynch, Lindsay            5            4                       1   47434   \n",
       "Patronick, Lucas          4            4                       1  108987   \n",
       "...                     ...          ...                     ...     ...   \n",
       "Stansfield, Norman        6            1                       0   58273   \n",
       "Fernandes, Nilson         5            1                       0   64057   \n",
       "Fett, Boba                3            1                       0   53366   \n",
       "Desimone, Carl            5            1                       0   53189   \n",
       "Dee, Randy                6            1                       0   56991   \n",
       "\n",
       "                     Termd  ...      ManagerName ManagerID  \\\n",
       "Employee_Name               ...                              \n",
       "Candie, Calvin           0  ...       Janet King       2.0   \n",
       "Anderson, Linda          0  ...         Amy Dunn      11.0   \n",
       "Billis, Helen            0  ...   Brannon Miller      12.0   \n",
       "Lynch, Lindsay           1  ...   Webster Butler      39.0   \n",
       "Patronick, Lucas         1  ...  Alex Sweetwater      10.0   \n",
       "...                    ...  ...              ...       ...   \n",
       "Stansfield, Norman       0  ...    Lynn Daneault      21.0   \n",
       "Fernandes, Nilson        0  ...         Amy Dunn      11.0   \n",
       "Fett, Boba               0  ...     Peter Monroe       7.0   \n",
       "Desimone, Carl           0  ...         Amy Dunn      11.0   \n",
       "Dee, Randy               0  ...   Brannon Miller      12.0   \n",
       "\n",
       "                      RecruitmentSource  PerformanceScore EngagementSurvey  \\\n",
       "Employee_Name                                                                \n",
       "Candie, Calvin                   Indeed           Exceeds             5.00   \n",
       "Anderson, Linda                LinkedIn           Exceeds             5.00   \n",
       "Billis, Helen                    Indeed           Exceeds             5.00   \n",
       "Lynch, Lindsay       Diversity Job Fair           Exceeds             5.00   \n",
       "Patronick, Lucas     Diversity Job Fair           Exceeds             5.00   \n",
       "...                                 ...               ...              ...   \n",
       "Stansfield, Norman              Website               PIP             1.81   \n",
       "Fernandes, Nilson                Indeed               PIP             1.56   \n",
       "Fett, Boba                     LinkedIn               PIP             1.20   \n",
       "Desimone, Carl                   Indeed               PIP             1.12   \n",
       "Dee, Randy                       Indeed       Fully Meets             4.30   \n",
       "\n",
       "                    EmpSatisfaction SpecialProjectsCount  \\\n",
       "Employee_Name                                              \n",
       "Candie, Calvin                    3                    0   \n",
       "Anderson, Linda                   5                    0   \n",
       "Billis, Helen                     3                    0   \n",
       "Lynch, Lindsay                    4                    0   \n",
       "Patronick, Lucas                  5                    3   \n",
       "...                             ...                  ...   \n",
       "Stansfield, Norman                2                    0   \n",
       "Fernandes, Nilson                 5                    0   \n",
       "Fett, Boba                        3                    6   \n",
       "Desimone, Carl                    2                    0   \n",
       "Dee, Randy                        4                    3   \n",
       "\n",
       "                    LastPerformanceReview_Date DaysLateLast30 Absences  \n",
       "Employee_Name                                                           \n",
       "Candie, Calvin                       2/22/2019              0       14  \n",
       "Anderson, Linda                       1/7/2019              0       15  \n",
       "Billis, Helen                        2/27/2019              0       19  \n",
       "Lynch, Lindsay                        2/2/2015              0       17  \n",
       "Patronick, Lucas                     8/16/2015              0       13  \n",
       "...                                        ...            ...      ...  \n",
       "Stansfield, Norman                   1/17/2019              3        5  \n",
       "Fernandes, Nilson                     1/3/2019              6       15  \n",
       "Fett, Boba                            2/4/2019              3        2  \n",
       "Desimone, Carl                       1/31/2019              4        9  \n",
       "Dee, Randy                           1/31/2019              2        2  \n",
       "\n",
       "[311 rows x 35 columns]"
      ]
     },
     "execution_count": 7,
     "metadata": {},
     "output_type": "execute_result"
    }
   ],
   "source": [
    "RH.sort_values(by=['EmpID'])"
   ]
  },
  {
   "cell_type": "markdown",
   "id": "4c92b02a-37b6-4bdc-b303-6a8b2a040a3b",
   "metadata": {},
   "source": [
    "**1 - Analysez la répartition des employés par salaire et leur département**"
   ]
  },
  {
   "cell_type": "markdown",
   "id": "f1c6cbbb-364d-4f56-8349-39725f3c5c9e",
   "metadata": {},
   "source": [
    "1-1. Analyse de la répartition des employés par salaire"
   ]
  },
  {
   "cell_type": "markdown",
   "id": "cc4af68c-a9ed-477f-a189-ad8288db11d6",
   "metadata": {},
   "source": [
    "On effectue un tri ascendant sur une isolation de la variable **Salary**, et on en affiche les dix premiers.\n",
    "ce procede sert aux premier abords a isole **Salary** du Jeu de donnee complet, on le trie en ascendance pour obtenir les salaire les salaire les plus eleves et on **head(10)** pour avoir la liste (de facon) des **10 premier** de la liste. \n",
    "Le salaire le plus eleve de l'entreprise revient a **King Janet** avec **250000**."
   ]
  },
  {
   "cell_type": "code",
   "execution_count": 8,
   "id": "1425d918-6224-4876-94fc-ff08be8c5449",
   "metadata": {},
   "outputs": [
    {
     "data": {
      "text/plain": [
       "Employee_Name\n",
       "King, Janet         250000\n",
       "Zamora, Jennifer    220450\n",
       "Houlihan, Debra     180000\n",
       "Foss, Jason         178000\n",
       "Corleone, Vito      170500\n",
       "Monroe, Peter       157000\n",
       "Roper, Katie        150290\n",
       "Ruiz, Ricardo       148999\n",
       "Roup,Simon          140920\n",
       "Dougall, Eric       138888\n",
       "Name: Salary, dtype: int64"
      ]
     },
     "execution_count": 8,
     "metadata": {},
     "output_type": "execute_result"
    }
   ],
   "source": [
    "Salary = RH['Salary']\n",
    "Salary.sort_values(ascending=False).head(10)"
   ]
  },
  {
   "cell_type": "markdown",
   "id": "c9007620-3a7e-4fd1-8999-3dc7008d9369",
   "metadata": {},
   "source": [
    "\n",
    "\n",
    "C'est le meme principe !\n",
    "On cherche juste, a l'inverse du premier procedee de connaitre les salaires les plus faibles.\n",
    "Le salaire le plus faible quant a lui revient a **Zima, Colleen** avec **45046**"
   ]
  },
  {
   "cell_type": "code",
   "execution_count": 9,
   "id": "4b5f4e55-6498-4cdb-aa90-32c38a12ddae",
   "metadata": {},
   "outputs": [
    {
     "data": {
      "text/plain": [
       "Employee_Name\n",
       "Purinton, Janine       46430\n",
       "Sadki, Nore            46428\n",
       "Dobrin, Denisa  S      46335\n",
       "Langton, Enrico        46120\n",
       "Perry, Shakira         45998\n",
       "Kirill, Alexandra      45433\n",
       "Mahoney, Lauren        45395\n",
       "Rhoads, Thomas         45115\n",
       "Jacobi, Hannah         45069\n",
       "Zima, Colleen          45046\n",
       "Name: Salary, dtype: int64"
      ]
     },
     "execution_count": 9,
     "metadata": {},
     "output_type": "execute_result"
    }
   ],
   "source": [
    "Salary.sort_values(ascending=False).tail(10)"
   ]
  },
  {
   "cell_type": "markdown",
   "id": "b627f928-8bc9-4a0b-95c9-cd62b083a5da",
   "metadata": {},
   "source": [
    "\n",
    "\n",
    "Voila ci-dessous, une illustration global de la repartition du salaire dans l'entreprise.\n",
    "Claire et nette !"
   ]
  },
  {
   "cell_type": "code",
   "execution_count": 10,
   "id": "89ecf408-efc8-4e95-bb15-22fec654b468",
   "metadata": {
    "scrolled": true
   },
   "outputs": [
    {
     "data": {
      "image/png": "[encoded data removed]",
      "text/plain": [
       "<Figure size 1500x700 with 1 Axes>"
      ]
     },
     "metadata": {},
     "output_type": "display_data"
    }
   ],
   "source": [
    "plt.figure(figsize = (15,7))\n",
    "plt.title('Distribution du salaire')\n",
    "plt.xlabel('Salaire')\n",
    "plt.ylabel('Nombre Employee') \n",
    "ax = sns.histplot(RH.Salary)\n",
    "for c in ax.containers:\n",
    "    ax.bar_label(c,label_type = 'edge')"
   ]
  },
  {
   "cell_type": "markdown",
   "id": "ce04a618-652d-498a-a57e-a76672bfbac2",
   "metadata": {},
   "source": [
    "\n",
    "\n",
    "1-2. Analyse de la répartition des employés par Departement"
   ]
  },
  {
   "cell_type": "markdown",
   "id": "360be75b-cccb-42a0-b126-a7ef8c8f689c",
   "metadata": {},
   "source": [
    "Avant tout prpos, voyons comment la variable **Departement** se comporte.\n",
    "Comme pour la variable **Salary**, on isole **Departement** et on fait un decompte et on effectue un decompte de chacune de chacune des   inscripte\n",
    "On obtient donc chacune des modalites de la variables ainsi que leur decomptes."
   ]
  },
  {
   "cell_type": "code",
   "execution_count": 11,
   "id": "ce5c05e2-2417-48d3-b2a4-96970b4714ea",
   "metadata": {
    "scrolled": true
   },
   "outputs": [
    {
     "data": {
      "text/plain": [
       "Department\n",
       "Production              209\n",
       "IT/IS                    50\n",
       "Sales                    31\n",
       "Software Engineering     11\n",
       "Admin Offices             9\n",
       "Executive Office          1\n",
       "Name: count, dtype: int64"
      ]
     },
     "execution_count": 11,
     "metadata": {},
     "output_type": "execute_result"
    }
   ],
   "source": [
    "RH_Department = RH['Department'].value_counts()\n",
    "RH_Department"
   ]
  },
  {
   "cell_type": "markdown",
   "id": "3c6218ef-05f1-4e2f-9362-9afbf55c844b",
   "metadata": {},
   "source": [
    "\n",
    "\n",
    "On la fait ensuite corresponde avec la variable **Salary**\n",
    "On etudiera la moyenne pour obtenir un chiffre fixe approximant le salaire moyen de chacun des departements.\n",
    "\n",
    "**NB** : Par habitude des choses j'ai prefere faire un arrondissement a la puissance 1 car cela me donne une meilleure representation et signification du decimal tout en gardant en la significativite."
   ]
  },
  {
   "cell_type": "code",
   "execution_count": 12,
   "id": "f6a8f323-fba9-400b-976c-aecc645ee5cb",
   "metadata": {},
   "outputs": [
    {
     "data": {
      "text/plain": [
       "Department\n",
       "Admin Offices            71791.9\n",
       "Executive Office        250000.0\n",
       "IT/IS                    97064.6\n",
       "Production               59953.5\n",
       "Sales                    69061.3\n",
       "Software Engineering     94989.5\n",
       "Name: Salary, dtype: float64"
      ]
     },
     "execution_count": 12,
     "metadata": {},
     "output_type": "execute_result"
    }
   ],
   "source": [
    "Salaire_Moyen_par_Dep = RH.groupby('Department')['Salary'].mean().round(1)\n",
    "Salaire_Moyen_par_Dep"
   ]
  },
  {
   "cell_type": "markdown",
   "id": "e46b69c2-9b2b-4259-94e6-e8c58d4cf725",
   "metadata": {},
   "source": [
    "\n",
    "\n",
    "une representation graphique des choses est toujours un plus necessaire, ci dessous retrouvez la repartition moyen des salaire par Departement"
   ]
  },
  {
   "cell_type": "code",
   "execution_count": 13,
   "id": "dfb06074-ed6f-4ee6-91a1-3f54a214c1a7",
   "metadata": {
    "scrolled": true
   },
   "outputs": [
    {
     "data": {
      "image/png": "[encoded data removed]",
      "text/plain": [
       "<Figure size 640x480 with 1 Axes>"
      ]
     },
     "metadata": {},
     "output_type": "display_data"
    }
   ],
   "source": [
    "ax1 = Salaire_Moyen_par_Dep.plot(kind = \"barh\")\n",
    "for c in ax1.containers:\n",
    "    ax1.bar_label(c,label_type = 'edge')"
   ]
  },
  {
   "cell_type": "markdown",
   "id": "092ca8c3-1dd7-42cd-b9be-d2d984cbe772",
   "metadata": {},
   "source": []
  },
  {
   "cell_type": "code",
   "execution_count": 14,
   "id": "397569ae-700a-4ff8-a573-506fa328112b",
   "metadata": {
    "scrolled": true
   },
   "outputs": [
    {
     "data": {
      "text/plain": [
       "Absences\n",
       "18     8\n",
       "12     8\n",
       "10    10\n",
       "8     11\n",
       "5     12\n",
       "9     14\n",
       "20    14\n",
       "1     14\n",
       "17    15\n",
       "11    15\n",
       "6     16\n",
       "3     16\n",
       "19    16\n",
       "14    17\n",
       "13    17\n",
       "15    20\n",
       "2     21\n",
       "7     21\n",
       "16    23\n",
       "4     23\n",
       "Name: count, dtype: int64"
      ]
     },
     "execution_count": 14,
     "metadata": {},
     "output_type": "execute_result"
    }
   ],
   "source": [
    "RH['Absences'].value_counts().sort_values(ascending=True)"
   ]
  },
  {
   "cell_type": "code",
   "execution_count": 15,
   "id": "2d422b07-c17d-4b9c-b7a5-761fe1235a9c",
   "metadata": {
    "scrolled": true
   },
   "outputs": [
    {
     "data": {
      "text/plain": [
       "[]"
      ]
     },
     "execution_count": 15,
     "metadata": {},
     "output_type": "execute_result"
    },
    {
     "data": {
      "image/png": "[encoded data removed]",
      "text/plain": [
       "<Figure size 640x480 with 1 Axes>"
      ]
     },
     "metadata": {},
     "output_type": "display_data"
    }
   ],
   "source": [
    "Nombre_Absences = RH['Absences'].value_counts().sort_values(ascending=True)\n",
    "Nombre_Absences.plot(kind='bar')\n",
    "plt.plot(ylabel='Absences')"
   ]
  },
  {
   "cell_type": "code",
   "execution_count": 16,
   "id": "8ea7beae-65fb-4191-ba2d-5021d53e2e76",
   "metadata": {},
   "outputs": [
    {
     "data": {
      "text/plain": [
       "20"
      ]
     },
     "execution_count": 16,
     "metadata": {},
     "output_type": "execute_result"
    }
   ],
   "source": [
    "max(RH['Absences'])"
   ]
  },
  {
   "cell_type": "code",
   "execution_count": 17,
   "id": "87440682-e8bf-4b51-bdec-8dc9fa593a06",
   "metadata": {
    "scrolled": true
   },
   "outputs": [
    {
     "data": {
      "text/html": [
       "<div>\n",
       "<style scoped>\n",
       "    .dataframe tbody tr th:only-of-type {\n",
       "        vertical-align: middle;\n",
       "    }\n",
       "\n",
       "    .dataframe tbody tr th {\n",
       "        vertical-align: top;\n",
       "    }\n",
       "\n",
       "    .dataframe thead th {\n",
       "        text-align: right;\n",
       "    }\n",
       "</style>\n",
       "<table border=\"1\" class=\"dataframe\">\n",
       "  <thead>\n",
       "    <tr style=\"text-align: right;\">\n",
       "      <th></th>\n",
       "      <th>EmpID</th>\n",
       "      <th>MarriedID</th>\n",
       "      <th>MaritalStatusID</th>\n",
       "      <th>GenderID</th>\n",
       "      <th>EmpStatusID</th>\n",
       "      <th>DeptID</th>\n",
       "      <th>PerfScoreID</th>\n",
       "      <th>FromDiversityJobFairID</th>\n",
       "      <th>Salary</th>\n",
       "      <th>Termd</th>\n",
       "      <th>...</th>\n",
       "      <th>ManagerName</th>\n",
       "      <th>ManagerID</th>\n",
       "      <th>RecruitmentSource</th>\n",
       "      <th>PerformanceScore</th>\n",
       "      <th>EngagementSurvey</th>\n",
       "      <th>EmpSatisfaction</th>\n",
       "      <th>SpecialProjectsCount</th>\n",
       "      <th>LastPerformanceReview_Date</th>\n",
       "      <th>DaysLateLast30</th>\n",
       "      <th>Absences</th>\n",
       "    </tr>\n",
       "    <tr>\n",
       "      <th>Employee_Name</th>\n",
       "      <th></th>\n",
       "      <th></th>\n",
       "      <th></th>\n",
       "      <th></th>\n",
       "      <th></th>\n",
       "      <th></th>\n",
       "      <th></th>\n",
       "      <th></th>\n",
       "      <th></th>\n",
       "      <th></th>\n",
       "      <th></th>\n",
       "      <th></th>\n",
       "      <th></th>\n",
       "      <th></th>\n",
       "      <th></th>\n",
       "      <th></th>\n",
       "      <th></th>\n",
       "      <th></th>\n",
       "      <th></th>\n",
       "      <th></th>\n",
       "      <th></th>\n",
       "    </tr>\n",
       "  </thead>\n",
       "  <tbody>\n",
       "    <tr>\n",
       "      <th>Bates, Norman</th>\n",
       "      <td>10061</td>\n",
       "      <td>0</td>\n",
       "      <td>0</td>\n",
       "      <td>1</td>\n",
       "      <td>4</td>\n",
       "      <td>5</td>\n",
       "      <td>3</td>\n",
       "      <td>0</td>\n",
       "      <td>57834</td>\n",
       "      <td>1</td>\n",
       "      <td>...</td>\n",
       "      <td>Kelley Spirea</td>\n",
       "      <td>18.0</td>\n",
       "      <td>Google Search</td>\n",
       "      <td>Fully Meets</td>\n",
       "      <td>5.00</td>\n",
       "      <td>4</td>\n",
       "      <td>0</td>\n",
       "      <td>4/5/2017</td>\n",
       "      <td>0</td>\n",
       "      <td>20</td>\n",
       "    </tr>\n",
       "    <tr>\n",
       "      <th>Fitzpatrick, Michael  J</th>\n",
       "      <td>10093</td>\n",
       "      <td>0</td>\n",
       "      <td>0</td>\n",
       "      <td>1</td>\n",
       "      <td>5</td>\n",
       "      <td>5</td>\n",
       "      <td>3</td>\n",
       "      <td>0</td>\n",
       "      <td>72609</td>\n",
       "      <td>1</td>\n",
       "      <td>...</td>\n",
       "      <td>Amy Dunn</td>\n",
       "      <td>11.0</td>\n",
       "      <td>Google Search</td>\n",
       "      <td>Fully Meets</td>\n",
       "      <td>4.76</td>\n",
       "      <td>5</td>\n",
       "      <td>0</td>\n",
       "      <td>4/5/2013</td>\n",
       "      <td>0</td>\n",
       "      <td>20</td>\n",
       "    </tr>\n",
       "    <tr>\n",
       "      <th>Givens, Myriam</th>\n",
       "      <td>10255</td>\n",
       "      <td>0</td>\n",
       "      <td>0</td>\n",
       "      <td>0</td>\n",
       "      <td>1</td>\n",
       "      <td>6</td>\n",
       "      <td>3</td>\n",
       "      <td>0</td>\n",
       "      <td>61555</td>\n",
       "      <td>0</td>\n",
       "      <td>...</td>\n",
       "      <td>Lynn Daneault</td>\n",
       "      <td>21.0</td>\n",
       "      <td>Indeed</td>\n",
       "      <td>Fully Meets</td>\n",
       "      <td>4.50</td>\n",
       "      <td>5</td>\n",
       "      <td>0</td>\n",
       "      <td>1/25/2019</td>\n",
       "      <td>0</td>\n",
       "      <td>20</td>\n",
       "    </tr>\n",
       "    <tr>\n",
       "      <th>Goeth, Amon</th>\n",
       "      <td>10228</td>\n",
       "      <td>1</td>\n",
       "      <td>1</td>\n",
       "      <td>1</td>\n",
       "      <td>1</td>\n",
       "      <td>3</td>\n",
       "      <td>3</td>\n",
       "      <td>0</td>\n",
       "      <td>74679</td>\n",
       "      <td>0</td>\n",
       "      <td>...</td>\n",
       "      <td>Peter Monroe</td>\n",
       "      <td>7.0</td>\n",
       "      <td>LinkedIn</td>\n",
       "      <td>Fully Meets</td>\n",
       "      <td>4.30</td>\n",
       "      <td>5</td>\n",
       "      <td>7</td>\n",
       "      <td>1/10/2019</td>\n",
       "      <td>0</td>\n",
       "      <td>20</td>\n",
       "    </tr>\n",
       "    <tr>\n",
       "      <th>Good, Susan</th>\n",
       "      <td>10237</td>\n",
       "      <td>1</td>\n",
       "      <td>1</td>\n",
       "      <td>0</td>\n",
       "      <td>3</td>\n",
       "      <td>5</td>\n",
       "      <td>3</td>\n",
       "      <td>0</td>\n",
       "      <td>66825</td>\n",
       "      <td>0</td>\n",
       "      <td>...</td>\n",
       "      <td>David Stanley</td>\n",
       "      <td>14.0</td>\n",
       "      <td>LinkedIn</td>\n",
       "      <td>Fully Meets</td>\n",
       "      <td>4.60</td>\n",
       "      <td>3</td>\n",
       "      <td>0</td>\n",
       "      <td>2/7/2019</td>\n",
       "      <td>0</td>\n",
       "      <td>20</td>\n",
       "    </tr>\n",
       "    <tr>\n",
       "      <th>Guilianno, Mike</th>\n",
       "      <td>10109</td>\n",
       "      <td>0</td>\n",
       "      <td>0</td>\n",
       "      <td>1</td>\n",
       "      <td>5</td>\n",
       "      <td>6</td>\n",
       "      <td>3</td>\n",
       "      <td>0</td>\n",
       "      <td>71707</td>\n",
       "      <td>1</td>\n",
       "      <td>...</td>\n",
       "      <td>John Smith</td>\n",
       "      <td>17.0</td>\n",
       "      <td>LinkedIn</td>\n",
       "      <td>Fully Meets</td>\n",
       "      <td>4.50</td>\n",
       "      <td>5</td>\n",
       "      <td>0</td>\n",
       "      <td>2/1/2013</td>\n",
       "      <td>0</td>\n",
       "      <td>20</td>\n",
       "    </tr>\n",
       "    <tr>\n",
       "      <th>Hankard, Earnest</th>\n",
       "      <td>10074</td>\n",
       "      <td>0</td>\n",
       "      <td>0</td>\n",
       "      <td>1</td>\n",
       "      <td>1</td>\n",
       "      <td>5</td>\n",
       "      <td>3</td>\n",
       "      <td>0</td>\n",
       "      <td>64246</td>\n",
       "      <td>0</td>\n",
       "      <td>...</td>\n",
       "      <td>Kelley Spirea</td>\n",
       "      <td>18.0</td>\n",
       "      <td>LinkedIn</td>\n",
       "      <td>Fully Meets</td>\n",
       "      <td>5.00</td>\n",
       "      <td>3</td>\n",
       "      <td>0</td>\n",
       "      <td>1/8/2019</td>\n",
       "      <td>0</td>\n",
       "      <td>20</td>\n",
       "    </tr>\n",
       "    <tr>\n",
       "      <th>Kreuger, Freddy</th>\n",
       "      <td>10165</td>\n",
       "      <td>0</td>\n",
       "      <td>0</td>\n",
       "      <td>1</td>\n",
       "      <td>1</td>\n",
       "      <td>6</td>\n",
       "      <td>3</td>\n",
       "      <td>1</td>\n",
       "      <td>71339</td>\n",
       "      <td>0</td>\n",
       "      <td>...</td>\n",
       "      <td>John Smith</td>\n",
       "      <td>17.0</td>\n",
       "      <td>Diversity Job Fair</td>\n",
       "      <td>Fully Meets</td>\n",
       "      <td>3.65</td>\n",
       "      <td>5</td>\n",
       "      <td>0</td>\n",
       "      <td>1/17/2019</td>\n",
       "      <td>0</td>\n",
       "      <td>20</td>\n",
       "    </tr>\n",
       "    <tr>\n",
       "      <th>Langford, Lindsey</th>\n",
       "      <td>10106</td>\n",
       "      <td>0</td>\n",
       "      <td>2</td>\n",
       "      <td>0</td>\n",
       "      <td>5</td>\n",
       "      <td>5</td>\n",
       "      <td>3</td>\n",
       "      <td>0</td>\n",
       "      <td>66074</td>\n",
       "      <td>1</td>\n",
       "      <td>...</td>\n",
       "      <td>David Stanley</td>\n",
       "      <td>14.0</td>\n",
       "      <td>Indeed</td>\n",
       "      <td>Fully Meets</td>\n",
       "      <td>4.52</td>\n",
       "      <td>3</td>\n",
       "      <td>0</td>\n",
       "      <td>2/20/2014</td>\n",
       "      <td>0</td>\n",
       "      <td>20</td>\n",
       "    </tr>\n",
       "    <tr>\n",
       "      <th>Latif, Mohammed</th>\n",
       "      <td>10249</td>\n",
       "      <td>1</td>\n",
       "      <td>1</td>\n",
       "      <td>1</td>\n",
       "      <td>5</td>\n",
       "      <td>5</td>\n",
       "      <td>3</td>\n",
       "      <td>0</td>\n",
       "      <td>61962</td>\n",
       "      <td>1</td>\n",
       "      <td>...</td>\n",
       "      <td>Kissy Sullivan</td>\n",
       "      <td>20.0</td>\n",
       "      <td>Google Search</td>\n",
       "      <td>Fully Meets</td>\n",
       "      <td>4.90</td>\n",
       "      <td>3</td>\n",
       "      <td>0</td>\n",
       "      <td>2/20/2013</td>\n",
       "      <td>0</td>\n",
       "      <td>20</td>\n",
       "    </tr>\n",
       "    <tr>\n",
       "      <th>LeBlanc, Brandon  R</th>\n",
       "      <td>10134</td>\n",
       "      <td>1</td>\n",
       "      <td>1</td>\n",
       "      <td>1</td>\n",
       "      <td>1</td>\n",
       "      <td>1</td>\n",
       "      <td>3</td>\n",
       "      <td>0</td>\n",
       "      <td>93046</td>\n",
       "      <td>0</td>\n",
       "      <td>...</td>\n",
       "      <td>Janet King</td>\n",
       "      <td>2.0</td>\n",
       "      <td>CareerBuilder</td>\n",
       "      <td>Fully Meets</td>\n",
       "      <td>4.10</td>\n",
       "      <td>4</td>\n",
       "      <td>0</td>\n",
       "      <td>1/28/2019</td>\n",
       "      <td>0</td>\n",
       "      <td>20</td>\n",
       "    </tr>\n",
       "    <tr>\n",
       "      <th>Mckenna, Sandy</th>\n",
       "      <td>10145</td>\n",
       "      <td>1</td>\n",
       "      <td>1</td>\n",
       "      <td>0</td>\n",
       "      <td>1</td>\n",
       "      <td>5</td>\n",
       "      <td>3</td>\n",
       "      <td>0</td>\n",
       "      <td>62810</td>\n",
       "      <td>0</td>\n",
       "      <td>...</td>\n",
       "      <td>Kissy Sullivan</td>\n",
       "      <td>20.0</td>\n",
       "      <td>CareerBuilder</td>\n",
       "      <td>Fully Meets</td>\n",
       "      <td>3.93</td>\n",
       "      <td>3</td>\n",
       "      <td>0</td>\n",
       "      <td>1/30/2019</td>\n",
       "      <td>0</td>\n",
       "      <td>20</td>\n",
       "    </tr>\n",
       "    <tr>\n",
       "      <th>Sloan, Constance</th>\n",
       "      <td>10095</td>\n",
       "      <td>0</td>\n",
       "      <td>0</td>\n",
       "      <td>0</td>\n",
       "      <td>5</td>\n",
       "      <td>5</td>\n",
       "      <td>3</td>\n",
       "      <td>0</td>\n",
       "      <td>63878</td>\n",
       "      <td>1</td>\n",
       "      <td>...</td>\n",
       "      <td>Michael Albert</td>\n",
       "      <td>22.0</td>\n",
       "      <td>CareerBuilder</td>\n",
       "      <td>Fully Meets</td>\n",
       "      <td>4.68</td>\n",
       "      <td>4</td>\n",
       "      <td>0</td>\n",
       "      <td>4/2/2015</td>\n",
       "      <td>0</td>\n",
       "      <td>20</td>\n",
       "    </tr>\n",
       "    <tr>\n",
       "      <th>Sparks, Taylor</th>\n",
       "      <td>10302</td>\n",
       "      <td>1</td>\n",
       "      <td>1</td>\n",
       "      <td>0</td>\n",
       "      <td>1</td>\n",
       "      <td>5</td>\n",
       "      <td>1</td>\n",
       "      <td>0</td>\n",
       "      <td>64021</td>\n",
       "      <td>0</td>\n",
       "      <td>...</td>\n",
       "      <td>Brannon Miller</td>\n",
       "      <td>12.0</td>\n",
       "      <td>Indeed</td>\n",
       "      <td>PIP</td>\n",
       "      <td>2.40</td>\n",
       "      <td>2</td>\n",
       "      <td>1</td>\n",
       "      <td>2/25/2019</td>\n",
       "      <td>6</td>\n",
       "      <td>20</td>\n",
       "    </tr>\n",
       "  </tbody>\n",
       "</table>\n",
       "<p>14 rows × 35 columns</p>\n",
       "</div>"
      ],
      "text/plain": [
       "                         EmpID  MarriedID  MaritalStatusID  GenderID  \\\n",
       "Employee_Name                                                          \n",
       "Bates, Norman            10061          0                0         1   \n",
       "Fitzpatrick, Michael  J  10093          0                0         1   \n",
       "Givens, Myriam           10255          0                0         0   \n",
       "Goeth, Amon              10228          1                1         1   \n",
       "Good, Susan              10237          1                1         0   \n",
       "Guilianno, Mike          10109          0                0         1   \n",
       "Hankard, Earnest         10074          0                0         1   \n",
       "Kreuger, Freddy          10165          0                0         1   \n",
       "Langford, Lindsey        10106          0                2         0   \n",
       "Latif, Mohammed          10249          1                1         1   \n",
       "LeBlanc, Brandon  R      10134          1                1         1   \n",
       "Mckenna, Sandy           10145          1                1         0   \n",
       "Sloan, Constance         10095          0                0         0   \n",
       "Sparks, Taylor           10302          1                1         0   \n",
       "\n",
       "                         EmpStatusID  DeptID  PerfScoreID  \\\n",
       "Employee_Name                                               \n",
       "Bates, Norman                      4       5            3   \n",
       "Fitzpatrick, Michael  J            5       5            3   \n",
       "Givens, Myriam                     1       6            3   \n",
       "Goeth, Amon                        1       3            3   \n",
       "Good, Susan                        3       5            3   \n",
       "Guilianno, Mike                    5       6            3   \n",
       "Hankard, Earnest                   1       5            3   \n",
       "Kreuger, Freddy                    1       6            3   \n",
       "Langford, Lindsey                  5       5            3   \n",
       "Latif, Mohammed                    5       5            3   \n",
       "LeBlanc, Brandon  R                1       1            3   \n",
       "Mckenna, Sandy                     1       5            3   \n",
       "Sloan, Constance                   5       5            3   \n",
       "Sparks, Taylor                     1       5            1   \n",
       "\n",
       "                         FromDiversityJobFairID  Salary  Termd  ...  \\\n",
       "Employee_Name                                                   ...   \n",
       "Bates, Norman                                 0   57834      1  ...   \n",
       "Fitzpatrick, Michael  J                       0   72609      1  ...   \n",
       "Givens, Myriam                                0   61555      0  ...   \n",
       "Goeth, Amon                                   0   74679      0  ...   \n",
       "Good, Susan                                   0   66825      0  ...   \n",
       "Guilianno, Mike                               0   71707      1  ...   \n",
       "Hankard, Earnest                              0   64246      0  ...   \n",
       "Kreuger, Freddy                               1   71339      0  ...   \n",
       "Langford, Lindsey                             0   66074      1  ...   \n",
       "Latif, Mohammed                               0   61962      1  ...   \n",
       "LeBlanc, Brandon  R                           0   93046      0  ...   \n",
       "Mckenna, Sandy                                0   62810      0  ...   \n",
       "Sloan, Constance                              0   63878      1  ...   \n",
       "Sparks, Taylor                                0   64021      0  ...   \n",
       "\n",
       "                            ManagerName ManagerID   RecruitmentSource  \\\n",
       "Employee_Name                                                           \n",
       "Bates, Norman             Kelley Spirea      18.0       Google Search   \n",
       "Fitzpatrick, Michael  J        Amy Dunn      11.0       Google Search   \n",
       "Givens, Myriam            Lynn Daneault      21.0              Indeed   \n",
       "Goeth, Amon                Peter Monroe       7.0            LinkedIn   \n",
       "Good, Susan               David Stanley      14.0            LinkedIn   \n",
       "Guilianno, Mike              John Smith      17.0            LinkedIn   \n",
       "Hankard, Earnest          Kelley Spirea      18.0            LinkedIn   \n",
       "Kreuger, Freddy              John Smith      17.0  Diversity Job Fair   \n",
       "Langford, Lindsey         David Stanley      14.0              Indeed   \n",
       "Latif, Mohammed          Kissy Sullivan      20.0       Google Search   \n",
       "LeBlanc, Brandon  R          Janet King       2.0       CareerBuilder   \n",
       "Mckenna, Sandy           Kissy Sullivan      20.0       CareerBuilder   \n",
       "Sloan, Constance         Michael Albert      22.0       CareerBuilder   \n",
       "Sparks, Taylor           Brannon Miller      12.0              Indeed   \n",
       "\n",
       "                         PerformanceScore EngagementSurvey EmpSatisfaction  \\\n",
       "Employee_Name                                                                \n",
       "Bates, Norman                 Fully Meets             5.00               4   \n",
       "Fitzpatrick, Michael  J       Fully Meets             4.76               5   \n",
       "Givens, Myriam                Fully Meets             4.50               5   \n",
       "Goeth, Amon                   Fully Meets             4.30               5   \n",
       "Good, Susan                   Fully Meets             4.60               3   \n",
       "Guilianno, Mike               Fully Meets             4.50               5   \n",
       "Hankard, Earnest              Fully Meets             5.00               3   \n",
       "Kreuger, Freddy               Fully Meets             3.65               5   \n",
       "Langford, Lindsey             Fully Meets             4.52               3   \n",
       "Latif, Mohammed               Fully Meets             4.90               3   \n",
       "LeBlanc, Brandon  R           Fully Meets             4.10               4   \n",
       "Mckenna, Sandy                Fully Meets             3.93               3   \n",
       "Sloan, Constance              Fully Meets             4.68               4   \n",
       "Sparks, Taylor                        PIP             2.40               2   \n",
       "\n",
       "                        SpecialProjectsCount LastPerformanceReview_Date  \\\n",
       "Employee_Name                                                             \n",
       "Bates, Norman                              0                   4/5/2017   \n",
       "Fitzpatrick, Michael  J                    0                   4/5/2013   \n",
       "Givens, Myriam                             0                  1/25/2019   \n",
       "Goeth, Amon                                7                  1/10/2019   \n",
       "Good, Susan                                0                   2/7/2019   \n",
       "Guilianno, Mike                            0                   2/1/2013   \n",
       "Hankard, Earnest                           0                   1/8/2019   \n",
       "Kreuger, Freddy                            0                  1/17/2019   \n",
       "Langford, Lindsey                          0                  2/20/2014   \n",
       "Latif, Mohammed                            0                  2/20/2013   \n",
       "LeBlanc, Brandon  R                        0                  1/28/2019   \n",
       "Mckenna, Sandy                             0                  1/30/2019   \n",
       "Sloan, Constance                           0                   4/2/2015   \n",
       "Sparks, Taylor                             1                  2/25/2019   \n",
       "\n",
       "                        DaysLateLast30 Absences  \n",
       "Employee_Name                                    \n",
       "Bates, Norman                        0       20  \n",
       "Fitzpatrick, Michael  J              0       20  \n",
       "Givens, Myriam                       0       20  \n",
       "Goeth, Amon                          0       20  \n",
       "Good, Susan                          0       20  \n",
       "Guilianno, Mike                      0       20  \n",
       "Hankard, Earnest                     0       20  \n",
       "Kreuger, Freddy                      0       20  \n",
       "Langford, Lindsey                    0       20  \n",
       "Latif, Mohammed                      0       20  \n",
       "LeBlanc, Brandon  R                  0       20  \n",
       "Mckenna, Sandy                       0       20  \n",
       "Sloan, Constance                     0       20  \n",
       "Sparks, Taylor                       6       20  \n",
       "\n",
       "[14 rows x 35 columns]"
      ]
     },
     "execution_count": 17,
     "metadata": {},
     "output_type": "execute_result"
    }
   ],
   "source": [
    "RH.loc[RH['Absences'] >= 20]"
   ]
  },
  {
   "cell_type": "code",
   "execution_count": 18,
   "id": "1fb112af-4fbf-4631-82d5-0746f2038ad8",
   "metadata": {},
   "outputs": [
    {
     "data": {
      "text/plain": [
       "14"
      ]
     },
     "execution_count": 18,
     "metadata": {},
     "output_type": "execute_result"
    }
   ],
   "source": [
    "len(RH.loc[RH['Absences'] >= 20])"
   ]
  },
  {
   "cell_type": "code",
   "execution_count": 19,
   "id": "1d7c79f4-cff5-4906-b73e-b8efbbc102f2",
   "metadata": {},
   "outputs": [
    {
     "data": {
      "text/plain": [
       "MarriedID\n",
       "0    187\n",
       "1    124\n",
       "Name: count, dtype: int64"
      ]
     },
     "execution_count": 19,
     "metadata": {},
     "output_type": "execute_result"
    }
   ],
   "source": [
    "RH['MarriedID'].value_counts()"
   ]
  },
  {
   "cell_type": "code",
   "execution_count": 20,
   "id": "a976fcdc-c5eb-4731-896f-d57a650a2087",
   "metadata": {
    "scrolled": true
   },
   "outputs": [
    {
     "data": {
      "image/png": "[encoded data removed]",
      "text/plain": [
       "<Figure size 1000x500 with 1 Axes>"
      ]
     },
     "metadata": {},
     "output_type": "display_data"
    }
   ],
   "source": [
    "plt.figure(figsize=(10,5))\n",
    "plt.pie(RH['MarriedID'].value_counts().values, labels=RH['MarriedID'].value_counts().index, autopct='%1.1f%%')\n",
    "plt.title('Occurence de MarriedID')\n",
    "plt.show()"
   ]
  },
  {
   "cell_type": "markdown",
   "id": "c2524efd-2a85-40e3-b3c0-75033af98010",
   "metadata": {},
   "source": [
    "  Évaluons l'efficacité des différentes sources de recrutement dans l'acquisition de talents."
   ]
  },
  {
   "cell_type": "markdown",
   "id": "b8487b9b-12f1-495d-9fe0-7410a15b9112",
   "metadata": {},
   "source": [
    "Plus besoin de presente le procede "
   ]
  },
  {
   "cell_type": "code",
   "execution_count": 21,
   "id": "9d97add6-3d01-46ea-93f6-6e326351a2e8",
   "metadata": {},
   "outputs": [
    {
     "data": {
      "text/plain": [
       "RecruitmentSource\n",
       "Indeed                     87\n",
       "LinkedIn                   76\n",
       "Google Search              49\n",
       "Employee Referral          31\n",
       "Diversity Job Fair         29\n",
       "CareerBuilder              23\n",
       "Website                    13\n",
       "Other                       2\n",
       "On-line Web application     1\n",
       "Name: count, dtype: int64"
      ]
     },
     "execution_count": 21,
     "metadata": {},
     "output_type": "execute_result"
    }
   ],
   "source": [
    "RH['RecruitmentSource'].value_counts()"
   ]
  },
  {
   "cell_type": "code",
   "execution_count": null,
   "id": "1951059a-166d-4f5d-a8ea-328aa8555974",
   "metadata": {},
   "outputs": [],
   "source": []
  },
  {
   "cell_type": "code",
   "execution_count": 22,
   "id": "f4864ec7-f640-4aef-808a-c8dc009ac9d3",
   "metadata": {
    "scrolled": true
   },
   "outputs": [
    {
     "data": {
      "image/png": "[encoded data removed]",
      "text/plain": [
       "<Figure size 640x480 with 1 Axes>"
      ]
     },
     "metadata": {},
     "output_type": "display_data"
    }
   ],
   "source": [
    "x=['Indeed','LinkedIn','Google Search','Employee Referral','Diversity Job Fair','CareerBuilder','Website','Other','On-line Web application']\n",
    "y=RH['RecruitmentSource'].value_counts()\n",
    "plt.barh(x,y,color='b')\n",
    "\n",
    "plt.title(\"Sources Recrutement \",fontsize=15)\n",
    "plt.xlabel(\"Nombre Employee\")\n",
    "plt.ylabel(\"Source Recrutement\")\n",
    "plt.grid()"
   ]
  },
  {
   "cell_type": "code",
   "execution_count": 23,
   "id": "8f281bd8-0815-4ce6-83aa-ee4fc5efb4a6",
   "metadata": {
    "scrolled": true
   },
   "outputs": [
    {
     "data": {
      "text/plain": [
       "RecruitmentSource        PerformanceScore \n",
       "Indeed                   Fully Meets          66\n",
       "LinkedIn                 Fully Meets          61\n",
       "Google Search            Fully Meets          43\n",
       "Employee Referral        Fully Meets          25\n",
       "Diversity Job Fair       Fully Meets          18\n",
       "CareerBuilder            Fully Meets          17\n",
       "Indeed                   Exceeds              12\n",
       "Website                  Fully Meets          10\n",
       "LinkedIn                 Exceeds               9\n",
       "Diversity Job Fair       Exceeds               6\n",
       "Employee Referral        Exceeds               5\n",
       "Indeed                   PIP                   5\n",
       "CareerBuilder            Needs Improvement     4\n",
       "Diversity Job Fair       Needs Improvement     4\n",
       "Indeed                   Needs Improvement     4\n",
       "LinkedIn                 PIP                   3\n",
       "Google Search            Needs Improvement     3\n",
       "LinkedIn                 Needs Improvement     3\n",
       "Other                    Fully Meets           2\n",
       "CareerBuilder            Exceeds               2\n",
       "Website                  PIP                   2\n",
       "Google Search            Exceeds               2\n",
       "On-line Web application  Fully Meets           1\n",
       "Employee Referral        PIP                   1\n",
       "Website                  Exceeds               1\n",
       "Diversity Job Fair       PIP                   1\n",
       "Google Search            PIP                   1\n",
       "Name: count, dtype: int64"
      ]
     },
     "execution_count": 23,
     "metadata": {},
     "output_type": "execute_result"
    }
   ],
   "source": [
    "RH[['RecruitmentSource','PerformanceScore']].value_counts()"
   ]
  },
  {
   "cell_type": "code",
   "execution_count": 24,
   "id": "131f21b7-3407-4753-ad9d-5ccdb31ac3fc",
   "metadata": {
    "scrolled": true
   },
   "outputs": [
    {
     "data": {
      "text/plain": [
       "Employee_Name\n",
       "Delarge, Alex          PIP\n",
       "Desimone, Carl         PIP\n",
       "Dietrich, Jenna        PIP\n",
       "Erilus, Angela         PIP\n",
       "Fernandes, Nilson      PIP\n",
       "Fett, Boba             PIP\n",
       "Forrest, Alex          PIP\n",
       "Gonzalez, Juan         PIP\n",
       "Miller, Ned            PIP\n",
       "O'hare, Lynn           PIP\n",
       "Sparks, Taylor         PIP\n",
       "Stansfield, Norman     PIP\n",
       "Ybarra, Catherine      PIP\n",
       "Name: PerformanceScore, dtype: object"
      ]
     },
     "execution_count": 24,
     "metadata": {},
     "output_type": "execute_result"
    }
   ],
   "source": [
    "RH_PIP=RH[RH['PerformanceScore']=='PIP']\n",
    "RH_PIP['PerformanceScore']"
   ]
  },
  {
   "cell_type": "code",
   "execution_count": 26,
   "id": "c2d04130-9b1c-4ee9-8b27-6339731a6683",
   "metadata": {},
   "outputs": [
    {
     "data": {
      "text/plain": [
       "13"
      ]
     },
     "execution_count": 26,
     "metadata": {},
     "output_type": "execute_result"
    }
   ],
   "source": [
    "len(RH_PIP['PerformanceScore'])"
   ]
  },
  {
   "cell_type": "code",
   "execution_count": 27,
   "id": "4cb0fb2b-8c1c-4d98-adf5-824901068b66",
   "metadata": {
    "scrolled": true
   },
   "outputs": [
    {
     "data": {
      "text/plain": [
       "RecruitmentSource        PerformanceScore\n",
       "Indeed                   Fully Meets         66\n",
       "LinkedIn                 Fully Meets         61\n",
       "Google Search            Fully Meets         43\n",
       "Employee Referral        Fully Meets         25\n",
       "Diversity Job Fair       Fully Meets         18\n",
       "CareerBuilder            Fully Meets         17\n",
       "Website                  Fully Meets         10\n",
       "Other                    Fully Meets          2\n",
       "On-line Web application  Fully Meets          1\n",
       "Name: count, dtype: int64"
      ]
     },
     "execution_count": 27,
     "metadata": {},
     "output_type": "execute_result"
    }
   ],
   "source": [
    "RH_FM=RH[RH['PerformanceScore']=='Fully Meets']\n",
    "RH_FM[['RecruitmentSource','PerformanceScore']].value_counts()"
   ]
  },
  {
   "cell_type": "code",
   "execution_count": 28,
   "id": "91f3f4b2-16f5-4f56-a547-e317777fe12e",
   "metadata": {
    "scrolled": true
   },
   "outputs": [
    {
     "data": {
      "image/png": "[encoded data removed]",
      "text/plain": [
       "<Figure size 640x480 with 1 Axes>"
      ]
     },
     "metadata": {},
     "output_type": "display_data"
    }
   ],
   "source": [
    "x=['Indeed','LinkedIn','Google Search','Employee Referral','Diversity Job Fair','CareerBuilder','Website','Other','On-line Web application']\n",
    "y=RH_FM[['RecruitmentSource','PerformanceScore']].value_counts()\n",
    "plt.barh(x,y)\n",
    "\n",
    "plt.title(\"Meilleurs Sources de Recrutement (En Fully Meets)\",fontsize=15)\n",
    "plt.ylabel(\"Source Recrutement\")\n",
    "plt.xlabel(\"Nombre d'employee Fully Meets\")\n",
    "plt.grid()"
   ]
  },
  {
   "cell_type": "code",
   "execution_count": 29,
   "id": "07061d2a-02b7-401c-acea-2c2d7c7f24aa",
   "metadata": {},
   "outputs": [
    {
     "data": {
      "text/plain": [
       "PerformanceScore\n",
       "Fully Meets          243\n",
       "Exceeds               37\n",
       "Needs Improvement     18\n",
       "PIP                   13\n",
       "Name: count, dtype: int64"
      ]
     },
     "execution_count": 29,
     "metadata": {},
     "output_type": "execute_result"
    }
   ],
   "source": [
    "RH['PerformanceScore'].value_counts()"
   ]
  },
  {
   "cell_type": "markdown",
   "id": "72c178d2-620f-4233-bffd-ebff4c0bbcaf",
   "metadata": {},
   "source": [
    "- **EmpStatusID, DeptID, PositionID, Position, Department, Salary :**\n",
    "  Analyser la répartition des employés par département, poste et leurs salaires respectifs.\n",
    "\n",
    "- **EmpSatisfaction, EngagementSurvey, SpecialProjectsCount :**\n",
    "  Évaluer la satisfaction des employés, leur engagement et leur participation à des projets spéciaux.\n"
   ]
  },
  {
   "cell_type": "code",
   "execution_count": 30,
   "id": "d3f41002-f4b8-433f-88c5-22f1adfe3bc8",
   "metadata": {
    "scrolled": true
   },
   "outputs": [
    {
     "name": "stderr",
     "output_type": "stream",
     "text": [
      "No artists with labels found to put in legend.  Note that artists whose label start with an underscore are ignored when legend() is called with no argument.\n"
     ]
    },
    {
     "data": {
      "image/png": "[encoded data removed]",
      "text/plain": [
       "<Figure size 640x480 with 1 Axes>"
      ]
     },
     "metadata": {},
     "output_type": "display_data"
    }
   ],
   "source": [
    "Performance_Score = RH['PerformanceScore'].value_counts()\n",
    "\n",
    "plt.plot(Performance_Score)\n",
    "plt.ylabel(\"Valeurs\")\n",
    "plt.xlabel(\"Performance Scale\")\n",
    "\n",
    "plt.title(\"Performance Score des Employees\",fontsize=15)\n",
    "plt.legend()\n",
    "plt.grid()"
   ]
  },
  {
   "cell_type": "code",
   "execution_count": 31,
   "id": "fa2b2079-0513-4ff3-a7fb-79707fdfced8",
   "metadata": {},
   "outputs": [
    {
     "data": {
      "text/plain": [
       "EmpSatisfaction\n",
       "3    108\n",
       "5     98\n",
       "4     94\n",
       "2      9\n",
       "1      2\n",
       "Name: count, dtype: int64"
      ]
     },
     "execution_count": 31,
     "metadata": {},
     "output_type": "execute_result"
    }
   ],
   "source": [
    "RH_EmpSatisfaction = RH['EmpSatisfaction'].value_counts()\n",
    "RH_EmpSatisfaction"
   ]
  },
  {
   "cell_type": "code",
   "execution_count": 32,
   "id": "3b4bf127-c751-418d-a753-a8349a32b11c",
   "metadata": {
    "scrolled": true
   },
   "outputs": [
    {
     "data": {
      "image/png": "[encoded data removed]",
      "text/plain": [
       "<Figure size 640x480 with 1 Axes>"
      ]
     },
     "metadata": {},
     "output_type": "display_data"
    }
   ],
   "source": [
    "SatisfactionEmployee = RH['EmpSatisfaction'].value_counts()\n",
    "SatisfactionEmployee.plot (kind = 'bar')\n",
    "plt.plot(xlabel='Degree Satisfaction')\n",
    "plt.plot(ylabel='Nombre Employee')\n",
    "\n",
    "plt.title(\"Degree Satisfaction des Employees\",fontsize=15)\n",
    "plt.grid()"
   ]
  },
  {
   "cell_type": "code",
   "execution_count": 33,
   "id": "27fb53dc-1fae-4126-a501-0669c2f8368e",
   "metadata": {},
   "outputs": [
    {
     "data": {
      "text/plain": [
       "EngagementSurvey\n",
       "5.00    56\n",
       "4.50    19\n",
       "4.30    17\n",
       "4.20    17\n",
       "4.10    16\n",
       "        ..\n",
       "1.56     1\n",
       "3.13     1\n",
       "2.10     1\n",
       "2.90     1\n",
       "3.20     1\n",
       "Name: count, Length: 119, dtype: int64"
      ]
     },
     "execution_count": 33,
     "metadata": {},
     "output_type": "execute_result"
    }
   ],
   "source": [
    "RH_EngagementSurvey = RH['EngagementSurvey'].value_counts()\n",
    "RH_EngagementSurvey"
   ]
  },
  {
   "cell_type": "code",
   "execution_count": 34,
   "id": "b931c95b-350d-4d4a-9633-52415bb24216",
   "metadata": {},
   "outputs": [
    {
     "data": {
      "text/plain": [
       "EmpSatisfaction  EngagementSurvey\n",
       "3                5.00                22\n",
       "5                5.00                19\n",
       "4                5.00                15\n",
       "5                4.50                10\n",
       "4                4.10                 8\n",
       "                                     ..\n",
       "3                4.63                 1\n",
       "                 4.80                 1\n",
       "                 4.83                 1\n",
       "                 4.88                 1\n",
       "4                3.49                 1\n",
       "Name: count, Length: 166, dtype: int64"
      ]
     },
     "execution_count": 34,
     "metadata": {},
     "output_type": "execute_result"
    }
   ],
   "source": [
    "RH_EmpSatisfaction_X_RH_EngagementSurvey = RH[['EmpSatisfaction','EngagementSurvey']].value_counts()\n",
    "RH_EmpSatisfaction_X_RH_EngagementSurvey"
   ]
  },
  {
   "cell_type": "code",
   "execution_count": 35,
   "id": "3b8b82f8-d1be-4b84-8328-c657c8b40364",
   "metadata": {},
   "outputs": [
    {
     "data": {
      "text/plain": [
       "0.32901764591142774"
      ]
     },
     "execution_count": 35,
     "metadata": {},
     "output_type": "execute_result"
    }
   ],
   "source": [
    "RH_EngagementSurvey.corr(RH_EmpSatisfaction)"
   ]
  },
  {
   "cell_type": "code",
   "execution_count": 36,
   "id": "ad797147-ac40-40c2-afaf-9e0c1103f3cb",
   "metadata": {
    "scrolled": true
   },
   "outputs": [
    {
     "data": {
      "image/png": "[encoded data removed]",
      "text/plain": [
       "<Figure size 640x480 with 1 Axes>"
      ]
     },
     "metadata": {
      "image/png": {
       "height": 480,
       "width": 640
      }
     },
     "output_type": "display_data"
    },
    {
     "data": {
      "text/plain": [
       "<Figure Size: (640 x 480)>"
      ]
     },
     "execution_count": 36,
     "metadata": {},
     "output_type": "execute_result"
    }
   ],
   "source": [
    "Male = RH[RH['Sex'] == \"M\"]\n",
    "Female = RH[RH['Sex'] == \"F\"]\n",
    "\n",
    "ggplot(data = RH, mapping = aes(x = 'Salary', fill = 'Sex')) +  geom_density()"
   ]
  },
  {
   "cell_type": "code",
   "execution_count": 37,
   "id": "eb13725a-0c34-4020-b8f4-ad228122873b",
   "metadata": {
    "scrolled": true
   },
   "outputs": [
    {
     "data": {
      "text/html": [
       "<table class=\"simpletable\">\n",
       "<caption>OLS Regression Results</caption>\n",
       "<tr>\n",
       "  <th>Dep. Variable:</th>         <td>Salary</td>      <th>  R-squared (uncentered):</th>      <td>   0.401</td>\n",
       "</tr>\n",
       "<tr>\n",
       "  <th>Model:</th>                   <td>OLS</td>       <th>  Adj. R-squared (uncentered):</th> <td>   0.399</td>\n",
       "</tr>\n",
       "<tr>\n",
       "  <th>Method:</th>             <td>Least Squares</td>  <th>  F-statistic:       </th>          <td>   207.9</td>\n",
       "</tr>\n",
       "<tr>\n",
       "  <th>Date:</th>             <td>Mon, 20 Nov 2023</td> <th>  Prob (F-statistic):</th>          <td>2.03e-36</td>\n",
       "</tr>\n",
       "<tr>\n",
       "  <th>Time:</th>                 <td>18:11:01</td>     <th>  Log-Likelihood:    </th>          <td> -3846.0</td>\n",
       "</tr>\n",
       "<tr>\n",
       "  <th>No. Observations:</th>      <td>   311</td>      <th>  AIC:               </th>          <td>   7694.</td>\n",
       "</tr>\n",
       "<tr>\n",
       "  <th>Df Residuals:</th>          <td>   310</td>      <th>  BIC:               </th>          <td>   7698.</td>\n",
       "</tr>\n",
       "<tr>\n",
       "  <th>Df Model:</th>              <td>     1</td>      <th>                     </th>              <td> </td>   \n",
       "</tr>\n",
       "<tr>\n",
       "  <th>Covariance Type:</th>      <td>nonrobust</td>    <th>                     </th>              <td> </td>   \n",
       "</tr>\n",
       "</table>\n",
       "<table class=\"simpletable\">\n",
       "<tr>\n",
       "      <td></td>        <th>coef</th>     <th>std err</th>      <th>t</th>      <th>P>|t|</th>  <th>[0.025</th>    <th>0.975]</th>  \n",
       "</tr>\n",
       "<tr>\n",
       "  <th>GenderID</th> <td> 7.063e+04</td> <td> 4898.724</td> <td>   14.418</td> <td> 0.000</td> <td>  6.1e+04</td> <td> 8.03e+04</td>\n",
       "</tr>\n",
       "</table>\n",
       "<table class=\"simpletable\">\n",
       "<tr>\n",
       "  <th>Omnibus:</th>       <td>36.001</td> <th>  Durbin-Watson:     </th> <td>   0.994</td>\n",
       "</tr>\n",
       "<tr>\n",
       "  <th>Prob(Omnibus):</th> <td> 0.000</td> <th>  Jarque-Bera (JB):  </th> <td>  71.946</td>\n",
       "</tr>\n",
       "<tr>\n",
       "  <th>Skew:</th>          <td> 0.625</td> <th>  Prob(JB):          </th> <td>2.38e-16</td>\n",
       "</tr>\n",
       "<tr>\n",
       "  <th>Kurtosis:</th>      <td> 4.998</td> <th>  Cond. No.          </th> <td>    1.00</td>\n",
       "</tr>\n",
       "</table><br/><br/>Notes:<br/>[1] R² is computed without centering (uncentered) since the model does not contain a constant.<br/>[2] Standard Errors assume that the covariance matrix of the errors is correctly specified."
      ],
      "text/latex": [
       "\\begin{center}\n",
       "\\begin{tabular}{lclc}\n",
       "\\toprule\n",
       "\\textbf{Dep. Variable:}    &      Salary      & \\textbf{  R-squared (uncentered):}      &     0.401   \\\\\n",
       "\\textbf{Model:}            &       OLS        & \\textbf{  Adj. R-squared (uncentered):} &     0.399   \\\\\n",
       "\\textbf{Method:}           &  Least Squares   & \\textbf{  F-statistic:       }          &     207.9   \\\\\n",
       "\\textbf{Date:}             & Mon, 20 Nov 2023 & \\textbf{  Prob (F-statistic):}          &  2.03e-36   \\\\\n",
       "\\textbf{Time:}             &     18:11:01     & \\textbf{  Log-Likelihood:    }          &   -3846.0   \\\\\n",
       "\\textbf{No. Observations:} &         311      & \\textbf{  AIC:               }          &     7694.   \\\\\n",
       "\\textbf{Df Residuals:}     &         310      & \\textbf{  BIC:               }          &     7698.   \\\\\n",
       "\\textbf{Df Model:}         &           1      & \\textbf{                     }          &             \\\\\n",
       "\\textbf{Covariance Type:}  &    nonrobust     & \\textbf{                     }          &             \\\\\n",
       "\\bottomrule\n",
       "\\end{tabular}\n",
       "\\begin{tabular}{lcccccc}\n",
       "                  & \\textbf{coef} & \\textbf{std err} & \\textbf{t} & \\textbf{P$> |$t$|$} & \\textbf{[0.025} & \\textbf{0.975]}  \\\\\n",
       "\\midrule\n",
       "\\textbf{GenderID} &    7.063e+04  &     4898.724     &    14.418  &         0.000        &      6.1e+04    &     8.03e+04     \\\\\n",
       "\\bottomrule\n",
       "\\end{tabular}\n",
       "\\begin{tabular}{lclc}\n",
       "\\textbf{Omnibus:}       & 36.001 & \\textbf{  Durbin-Watson:     } &    0.994  \\\\\n",
       "\\textbf{Prob(Omnibus):} &  0.000 & \\textbf{  Jarque-Bera (JB):  } &   71.946  \\\\\n",
       "\\textbf{Skew:}          &  0.625 & \\textbf{  Prob(JB):          } & 2.38e-16  \\\\\n",
       "\\textbf{Kurtosis:}      &  4.998 & \\textbf{  Cond. No.          } &     1.00  \\\\\n",
       "\\bottomrule\n",
       "\\end{tabular}\n",
       "%\\caption{OLS Regression Results}\n",
       "\\end{center}\n",
       "\n",
       "Notes: \\newline\n",
       " [1] R² is computed without centering (uncentered) since the model does not contain a constant. \\newline\n",
       " [2] Standard Errors assume that the covariance matrix of the errors is correctly specified."
      ],
      "text/plain": [
       "<class 'statsmodels.iolib.summary.Summary'>\n",
       "\"\"\"\n",
       "                                 OLS Regression Results                                \n",
       "=======================================================================================\n",
       "Dep. Variable:                 Salary   R-squared (uncentered):                   0.401\n",
       "Model:                            OLS   Adj. R-squared (uncentered):              0.399\n",
       "Method:                 Least Squares   F-statistic:                              207.9\n",
       "Date:                Mon, 20 Nov 2023   Prob (F-statistic):                    2.03e-36\n",
       "Time:                        18:11:01   Log-Likelihood:                         -3846.0\n",
       "No. Observations:                 311   AIC:                                      7694.\n",
       "Df Residuals:                     310   BIC:                                      7698.\n",
       "Df Model:                           1                                                  \n",
       "Covariance Type:            nonrobust                                                  \n",
       "==============================================================================\n",
       "                 coef    std err          t      P>|t|      [0.025      0.975]\n",
       "------------------------------------------------------------------------------\n",
       "GenderID    7.063e+04   4898.724     14.418      0.000     6.1e+04    8.03e+04\n",
       "==============================================================================\n",
       "Omnibus:                       36.001   Durbin-Watson:                   0.994\n",
       "Prob(Omnibus):                  0.000   Jarque-Bera (JB):               71.946\n",
       "Skew:                           0.625   Prob(JB):                     2.38e-16\n",
       "Kurtosis:                       4.998   Cond. No.                         1.00\n",
       "==============================================================================\n",
       "\n",
       "Notes:\n",
       "[1] R² is computed without centering (uncentered) since the model does not contain a constant.\n",
       "[2] Standard Errors assume that the covariance matrix of the errors is correctly specified.\n",
       "\"\"\""
      ]
     },
     "execution_count": 37,
     "metadata": {},
     "output_type": "execute_result"
    }
   ],
   "source": [
    "X = RH.GenderID\n",
    "Y = RH.Salary\n",
    "model = sm.OLS(Y, X).fit()\n",
    "predictions = model.predict(X)\n",
    "model.summary()"
   ]
  },
  {
   "cell_type": "markdown",
   "id": "3e960593-37a1-459b-ad2f-239a11506cee",
   "metadata": {},
   "source": [
    "**2. Informations Démographiques**\r\n",
    "\r\n",
    "- **EndID, MarriedIO, MaritalStatusID, GenderID, DOB, Sex :**\r\n",
    "  Examiner la composition démographique de la main-d'œuvre, en tenant compte de l'âge, du genre, de l'état matrimonial, etc.\r\n"
   ]
  },
  {
   "cell_type": "code",
   "execution_count": null,
   "id": "83362420-dd3c-4980-9775-99f80dce852a",
   "metadata": {},
   "outputs": [],
   "source": []
  }
 ],
 "metadata": {
  "kernelspec": {
   "display_name": "Python 3 (ipykernel)",
   "language": "python",
   "name": "python3"
  },
  "language_info": {
   "codemirror_mode": {
    "name": "ipython",
    "version": 3
   },
   "file_extension": ".py",
   "mimetype": "text/x-python",
   "name": "python",
   "nbconvert_exporter": "python",
   "pygments_lexer": "ipython3",
   "version": "3.12.0"
  }
 },
 "nbformat": 4,
 "nbformat_minor": 5
}
